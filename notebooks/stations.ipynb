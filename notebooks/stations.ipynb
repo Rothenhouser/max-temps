{
 "cells": [
  {
   "cell_type": "code",
   "execution_count": 33,
   "metadata": {},
   "outputs": [
    {
     "data": {
      "text/html": [
       "<div>\n",
       "<style scoped>\n",
       "    .dataframe tbody tr th:only-of-type {\n",
       "        vertical-align: middle;\n",
       "    }\n",
       "\n",
       "    .dataframe tbody tr th {\n",
       "        vertical-align: top;\n",
       "    }\n",
       "\n",
       "    .dataframe thead th {\n",
       "        text-align: right;\n",
       "    }\n",
       "</style>\n",
       "<table border=\"1\" class=\"dataframe\">\n",
       "  <thead>\n",
       "    <tr style=\"text-align: right;\">\n",
       "      <th></th>\n",
       "      <th>Stations_id</th>\n",
       "      <th>von_datum</th>\n",
       "      <th>bis_datum</th>\n",
       "      <th>Stationshoehe</th>\n",
       "      <th>geoBreite</th>\n",
       "      <th>geoLaenge</th>\n",
       "      <th>Stationsname</th>\n",
       "      <th>Bundesland</th>\n",
       "    </tr>\n",
       "  </thead>\n",
       "  <tbody>\n",
       "    <tr>\n",
       "      <th>0</th>\n",
       "      <td>1</td>\n",
       "      <td>19310101</td>\n",
       "      <td>19860630</td>\n",
       "      <td>478</td>\n",
       "      <td>47.8413</td>\n",
       "      <td>8.8493</td>\n",
       "      <td>Aach</td>\n",
       "      <td>Baden-Württemberg</td>\n",
       "    </tr>\n",
       "    <tr>\n",
       "      <th>1</th>\n",
       "      <td>3</td>\n",
       "      <td>18510101</td>\n",
       "      <td>20110331</td>\n",
       "      <td>202</td>\n",
       "      <td>50.7827</td>\n",
       "      <td>6.0941</td>\n",
       "      <td>Aachen</td>\n",
       "      <td>Nordrhein-Westfalen</td>\n",
       "    </tr>\n",
       "    <tr>\n",
       "      <th>2</th>\n",
       "      <td>44</td>\n",
       "      <td>19710301</td>\n",
       "      <td>20221130</td>\n",
       "      <td>44</td>\n",
       "      <td>52.9336</td>\n",
       "      <td>8.2370</td>\n",
       "      <td>Großenkneten</td>\n",
       "      <td>Niedersachsen</td>\n",
       "    </tr>\n",
       "    <tr>\n",
       "      <th>3</th>\n",
       "      <td>52</td>\n",
       "      <td>19730101</td>\n",
       "      <td>20011231</td>\n",
       "      <td>46</td>\n",
       "      <td>53.6623</td>\n",
       "      <td>10.1990</td>\n",
       "      <td>Ahrensburg-Wulfsdorf</td>\n",
       "      <td>Schleswig-Holstein</td>\n",
       "    </tr>\n",
       "    <tr>\n",
       "      <th>4</th>\n",
       "      <td>61</td>\n",
       "      <td>19750701</td>\n",
       "      <td>19780831</td>\n",
       "      <td>339</td>\n",
       "      <td>48.8443</td>\n",
       "      <td>12.6171</td>\n",
       "      <td>Aiterhofen</td>\n",
       "      <td>Bayern</td>\n",
       "    </tr>\n",
       "    <tr>\n",
       "      <th>...</th>\n",
       "      <td>...</td>\n",
       "      <td>...</td>\n",
       "      <td>...</td>\n",
       "      <td>...</td>\n",
       "      <td>...</td>\n",
       "      <td>...</td>\n",
       "      <td>...</td>\n",
       "      <td>...</td>\n",
       "    </tr>\n",
       "    <tr>\n",
       "      <th>1119</th>\n",
       "      <td>19172</td>\n",
       "      <td>20200901</td>\n",
       "      <td>20221130</td>\n",
       "      <td>48</td>\n",
       "      <td>54.0246</td>\n",
       "      <td>9.3880</td>\n",
       "      <td>Wacken</td>\n",
       "      <td>Schleswig-Holstein</td>\n",
       "    </tr>\n",
       "    <tr>\n",
       "      <th>1120</th>\n",
       "      <td>19318</td>\n",
       "      <td>19461101</td>\n",
       "      <td>19781231</td>\n",
       "      <td>292</td>\n",
       "      <td>50.7180</td>\n",
       "      <td>10.4310</td>\n",
       "      <td>Schmalkalden</td>\n",
       "      <td>Thüringen</td>\n",
       "    </tr>\n",
       "    <tr>\n",
       "      <th>1121</th>\n",
       "      <td>19364</td>\n",
       "      <td>19371201</td>\n",
       "      <td>19441231</td>\n",
       "      <td>720</td>\n",
       "      <td>50.6167</td>\n",
       "      <td>10.8167</td>\n",
       "      <td>Schmiedefeld/Rennsteig</td>\n",
       "      <td>Thüringen</td>\n",
       "    </tr>\n",
       "    <tr>\n",
       "      <th>1122</th>\n",
       "      <td>19378</td>\n",
       "      <td>19580101</td>\n",
       "      <td>19771231</td>\n",
       "      <td>505</td>\n",
       "      <td>50.8333</td>\n",
       "      <td>10.5833</td>\n",
       "      <td>Finsterbergen</td>\n",
       "      <td>Thüringen</td>\n",
       "    </tr>\n",
       "    <tr>\n",
       "      <th>1123</th>\n",
       "      <td>19433</td>\n",
       "      <td>18870101</td>\n",
       "      <td>19450228</td>\n",
       "      <td>316</td>\n",
       "      <td>50.8188</td>\n",
       "      <td>10.3443</td>\n",
       "      <td>Liebenstein, Bad</td>\n",
       "      <td>Thüringen</td>\n",
       "    </tr>\n",
       "  </tbody>\n",
       "</table>\n",
       "<p>1124 rows × 8 columns</p>\n",
       "</div>"
      ],
      "text/plain": [
       "      Stations_id  von_datum  bis_datum  Stationshoehe  geoBreite  geoLaenge  \\\n",
       "0               1   19310101   19860630            478    47.8413     8.8493   \n",
       "1               3   18510101   20110331            202    50.7827     6.0941   \n",
       "2              44   19710301   20221130             44    52.9336     8.2370   \n",
       "3              52   19730101   20011231             46    53.6623    10.1990   \n",
       "4              61   19750701   19780831            339    48.8443    12.6171   \n",
       "...           ...        ...        ...            ...        ...        ...   \n",
       "1119        19172   20200901   20221130             48    54.0246     9.3880   \n",
       "1120        19318   19461101   19781231            292    50.7180    10.4310   \n",
       "1121        19364   19371201   19441231            720    50.6167    10.8167   \n",
       "1122        19378   19580101   19771231            505    50.8333    10.5833   \n",
       "1123        19433   18870101   19450228            316    50.8188    10.3443   \n",
       "\n",
       "                Stationsname           Bundesland  \n",
       "0                       Aach    Baden-Württemberg  \n",
       "1                     Aachen  Nordrhein-Westfalen  \n",
       "2               Großenkneten        Niedersachsen  \n",
       "3       Ahrensburg-Wulfsdorf   Schleswig-Holstein  \n",
       "4                 Aiterhofen               Bayern  \n",
       "...                      ...                  ...  \n",
       "1119                  Wacken   Schleswig-Holstein  \n",
       "1120            Schmalkalden            Thüringen  \n",
       "1121  Schmiedefeld/Rennsteig            Thüringen  \n",
       "1122           Finsterbergen            Thüringen  \n",
       "1123        Liebenstein, Bad            Thüringen  \n",
       "\n",
       "[1124 rows x 8 columns]"
      ]
     },
     "execution_count": 33,
     "metadata": {},
     "output_type": "execute_result"
    }
   ],
   "source": [
    "import pandas as pd\n",
    "import requests\n",
    "DATA_DIR_URL = \"https://opendata.dwd.de/climate_environment/CDC/observations_germany/climate/monthly/kl/historical\"\n",
    "STATION_INFO = DATA_DIR_URL + \"/KL_Monatswerte_Beschreibung_Stationen.txt\"\n",
    "\n",
    "# df = pd.read_csv(STATION_INFO, encoding='windows-1252', sep=None, skiprows=[0,1,2])\n",
    "# Can't parse the headers along with the rest, add manually\n",
    "df = pd.read_fwf(\n",
    "    STATION_INFO,\n",
    "    encoding=\"windows-1252\",\n",
    "    colspecs=\"infer\",\n",
    "    infer_nrows=10,\n",
    "    skiprows=[0, 1],\n",
    "    header=None,\n",
    "    names=[\n",
    "        \"Stations_id\",\n",
    "        \"von_datum\",\n",
    "        \"bis_datum\",\n",
    "        \"Stationshoehe\",\n",
    "        \"geoBreite\",\n",
    "        \"geoLaenge\",\n",
    "        \"Stationsname\",\n",
    "        \"Bundesland\",\n",
    "    ],\n",
    ")\n",
    "df\n"
   ]
  },
  {
   "cell_type": "code",
   "execution_count": 29,
   "metadata": {},
   "outputs": [
    {
     "data": {
      "text/plain": [
       "Stations_id                      268\n",
       "von_datum                   19530901\n",
       "bis_datum                   19961231\n",
       "Stationshoehe                    622\n",
       "geoBreite                    48.5293\n",
       "geoLaenge                     8.2727\n",
       "Stationsname     Baiersbronn-Obertal\n",
       "Bundesland         Baden-Württemberg\n",
       "Name: 50, dtype: object"
      ]
     },
     "execution_count": 29,
     "metadata": {},
     "output_type": "execute_result"
    }
   ],
   "source": [
    "some_stn = df.iloc[50]\n",
    "some_stn"
   ]
  },
  {
   "cell_type": "code",
   "execution_count": 32,
   "metadata": {},
   "outputs": [
    {
     "data": {
      "text/html": [
       "<div>\n",
       "<style scoped>\n",
       "    .dataframe tbody tr th:only-of-type {\n",
       "        vertical-align: middle;\n",
       "    }\n",
       "\n",
       "    .dataframe tbody tr th {\n",
       "        vertical-align: top;\n",
       "    }\n",
       "\n",
       "    .dataframe thead th {\n",
       "        text-align: right;\n",
       "    }\n",
       "</style>\n",
       "<table border=\"1\" class=\"dataframe\">\n",
       "  <thead>\n",
       "    <tr style=\"text-align: right;\">\n",
       "      <th></th>\n",
       "      <th>Stations_id</th>\n",
       "      <th>von_datum</th>\n",
       "      <th>bis_datum</th>\n",
       "      <th>Stationshoehe</th>\n",
       "      <th>geoBreite</th>\n",
       "      <th>geoLaenge</th>\n",
       "      <th>Stationsname</th>\n",
       "      <th>Bundesland</th>\n",
       "    </tr>\n",
       "  </thead>\n",
       "  <tbody>\n",
       "    <tr>\n",
       "      <th>1119</th>\n",
       "      <td>19172</td>\n",
       "      <td>20200901</td>\n",
       "      <td>20221130</td>\n",
       "      <td>48</td>\n",
       "      <td>54.0246</td>\n",
       "      <td>9.388</td>\n",
       "      <td>Wacken</td>\n",
       "      <td>Schleswig-Holstein</td>\n",
       "    </tr>\n",
       "  </tbody>\n",
       "</table>\n",
       "</div>"
      ],
      "text/plain": [
       "      Stations_id  von_datum  bis_datum  Stationshoehe  geoBreite  geoLaenge  \\\n",
       "1119        19172   20200901   20221130             48    54.0246      9.388   \n",
       "\n",
       "     Stationsname          Bundesland  \n",
       "1119       Wacken  Schleswig-Holstein  "
      ]
     },
     "execution_count": 32,
     "metadata": {},
     "output_type": "execute_result"
    }
   ],
   "source": [
    "df[df['Stations_id'] == 19172]"
   ]
  },
  {
   "attachments": {},
   "cell_type": "markdown",
   "metadata": {},
   "source": [
    "Most robust approach probably to get the station ID, then load the list of links from the website and match. Because the end dates here do not match the end dates of the actual available data."
   ]
  },
  {
   "cell_type": "code",
   "execution_count": 38,
   "metadata": {},
   "outputs": [],
   "source": [
    "import requests\n",
    "from bs4 import BeautifulSoup\n",
    "\n",
    "def get_url_paths(url, ext='', params={}):\n",
    "    response = requests.get(url, params=params)\n",
    "    if response.ok:\n",
    "        response_text = response.text\n",
    "    else:\n",
    "        return response.raise_for_status()\n",
    "    soup = BeautifulSoup(response_text, 'html.parser')\n",
    "    parent = [url + node.get('href') for node in soup.find_all('a') if node.get('href').endswith(ext)]\n",
    "    return parent\n",
    "\n",
    "url = DATA_DIR_URL\n",
    "ext = 'zip'\n",
    "url_paths = get_url_paths(url, ext)"
   ]
  },
  {
   "cell_type": "code",
   "execution_count": 39,
   "metadata": {},
   "outputs": [
    {
     "data": {
      "text/plain": [
       "'https://opendata.dwd.de/climate_environment/CDC/observations_germany/climate/monthly/kl/historicalmonatswerte_KL_00001_19310101_19860630_hist.zip'"
      ]
     },
     "execution_count": 39,
     "metadata": {},
     "output_type": "execute_result"
    }
   ],
   "source": [
    "url_paths[0]"
   ]
  },
  {
   "cell_type": "code",
   "execution_count": 49,
   "metadata": {},
   "outputs": [
    {
     "data": {
      "text/plain": [
       "'KL_19172'"
      ]
     },
     "execution_count": 49,
     "metadata": {},
     "output_type": "execute_result"
    }
   ],
   "source": [
    "stn_id = 19172\n",
    "f'KL_{stn_id:05}'"
   ]
  },
  {
   "cell_type": "code",
   "execution_count": 59,
   "metadata": {},
   "outputs": [
    {
     "name": "stdout",
     "output_type": "stream",
     "text": [
      "<re.Match object; span=(8, 16), match='KL_00001'>\n"
     ]
    }
   ],
   "source": [
    "import re\n",
    "def find_url_for_station(station_id: int, url_paths: list[str]):\n",
    "    exp = re.compile(f'KL_{station_id:05}')\n",
    "    for url in url_paths[:20]:\n",
    "        print(exp.match(url))\n",
    "        \n",
    "# find_url_for_station(1, url_paths)\n",
    "\n",
    "station_id=1\n",
    "exp = re.search(f'KL_{station_id:05}','blablablKL_00001_jakdjfkajfk')\n",
    "print(exp)"
   ]
  },
  {
   "cell_type": "code",
   "execution_count": 60,
   "metadata": {},
   "outputs": [
    {
     "data": {
      "text/plain": [
       "1103"
      ]
     },
     "execution_count": 60,
     "metadata": {},
     "output_type": "execute_result"
    }
   ],
   "source": [
    "len(url_paths)"
   ]
  },
  {
   "attachments": {},
   "cell_type": "markdown",
   "metadata": {},
   "source": [
    "Are there duplicates? Try getting the Station IDs out of the list of paths and then check for mismatch."
   ]
  },
  {
   "cell_type": "code",
   "execution_count": null,
   "metadata": {},
   "outputs": [],
   "source": []
  }
 ],
 "metadata": {
  "kernelspec": {
   "display_name": "Python 3",
   "language": "python",
   "name": "python3"
  },
  "language_info": {
   "codemirror_mode": {
    "name": "ipython",
    "version": 3
   },
   "file_extension": ".py",
   "mimetype": "text/x-python",
   "name": "python",
   "nbconvert_exporter": "python",
   "pygments_lexer": "ipython3",
   "version": "3.10.9"
  },
  "orig_nbformat": 4,
  "vscode": {
   "interpreter": {
    "hash": "949777d72b0d2535278d3dc13498b2535136f6dfe0678499012e853ee9abcab1"
   }
  }
 },
 "nbformat": 4,
 "nbformat_minor": 2
}
